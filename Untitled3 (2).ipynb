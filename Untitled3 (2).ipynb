{
  "nbformat": 4,
  "nbformat_minor": 0,
  "metadata": {
    "colab": {
      "provenance": []
    },
    "kernelspec": {
      "name": "python3",
      "display_name": "Python 3"
    },
    "language_info": {
      "name": "python"
    }
  },
  "cells": [
    {
      "cell_type": "code",
      "execution_count": null,
      "metadata": {
        "id": "L5J7gZJTFAXS"
      },
      "outputs": [],
      "source": [
        "import pandas as pd\n",
        "import numpy as np"
      ]
    },
    {
      "cell_type": "code",
      "source": [
        "dataset=pd.read_csv(\"/content/rating (1).csv\")"
      ],
      "metadata": {
        "id": "y6VkHcXmYigC"
      },
      "execution_count": null,
      "outputs": []
    },
    {
      "cell_type": "code",
      "source": [
        "dataset.head"
      ],
      "metadata": {
        "colab": {
          "base_uri": "https://localhost:8080/"
        },
        "id": "HCJWN6zLYxnK",
        "outputId": "30f9db1d-af45-4379-bc23-cc717d84485f"
      },
      "execution_count": null,
      "outputs": [
        {
          "output_type": "execute_result",
          "data": {
            "text/plain": [
              "<bound method NDFrame.head of         userId  movieId  rating            timestamp\n",
              "0            1      2.0     3.5  2005-04-02 23:53:47\n",
              "1            1     29.0     3.5  2005-04-02 23:31:16\n",
              "2            1     32.0     3.5  2005-04-02 23:33:39\n",
              "3            1     47.0     3.5  2005-04-02 23:32:07\n",
              "4            1     50.0     3.5  2005-04-02 23:29:40\n",
              "...        ...      ...     ...                  ...\n",
              "225278    1560     85.0     5.0  2002-03-25 02:39:38\n",
              "225279    1560    110.0     5.0  2001-07-29 06:38:34\n",
              "225280    1560    141.0     1.5  2004-03-28 22:58:44\n",
              "225281    1560    147.0     3.0  2002-04-05 20:42:20\n",
              "225282      15      NaN     NaN                  NaN\n",
              "\n",
              "[225283 rows x 4 columns]>"
            ]
          },
          "metadata": {},
          "execution_count": 6
        }
      ]
    },
    {
      "cell_type": "code",
      "source": [
        "user_max=dataset[\"userId\"].max()\n",
        "print(user_max)\n",
        "user_min=dataset['userId'].min()\n",
        "print(user_min)"
      ],
      "metadata": {
        "colab": {
          "base_uri": "https://localhost:8080/"
        },
        "id": "VXzSUYyOY8SM",
        "outputId": "b851d430-eeb6-4314-cd94-7ef3c2fa8b58"
      },
      "execution_count": null,
      "outputs": [
        {
          "output_type": "stream",
          "name": "stdout",
          "text": [
            "1560\n",
            "1\n"
          ]
        }
      ]
    },
    {
      "cell_type": "code",
      "source": [
        "movie_max=dataset[\"movieId\"].max()\n",
        "print(movie_max)\n",
        "movie_min=dataset['movieId'].min()\n",
        "print(movie_min)"
      ],
      "metadata": {
        "colab": {
          "base_uri": "https://localhost:8080/"
        },
        "id": "z9YZ3ppTZwnK",
        "outputId": "724b957a-1579-4470-bb74-742646be9c33"
      },
      "execution_count": null,
      "outputs": [
        {
          "output_type": "stream",
          "name": "stdout",
          "text": [
            "130219.0\n",
            "1.0\n"
          ]
        }
      ]
    },
    {
      "cell_type": "code",
      "source": [
        "dataset.drop(\"timestamp\", axis=1 , inplace=True)"
      ],
      "metadata": {
        "id": "jjjCYKATaSO6"
      },
      "execution_count": null,
      "outputs": []
    },
    {
      "cell_type": "code",
      "source": [
        "dataset.head"
      ],
      "metadata": {
        "colab": {
          "base_uri": "https://localhost:8080/"
        },
        "id": "YFnCT2fSb9dE",
        "outputId": "3b20c842-dc9f-4d04-90e0-93bf8e544a07"
      },
      "execution_count": null,
      "outputs": [
        {
          "output_type": "execute_result",
          "data": {
            "text/plain": [
              "<bound method NDFrame.head of         userId  movieId  rating\n",
              "0            1      2.0     3.5\n",
              "1            1     29.0     3.5\n",
              "2            1     32.0     3.5\n",
              "3            1     47.0     3.5\n",
              "4            1     50.0     3.5\n",
              "...        ...      ...     ...\n",
              "225278    1560     85.0     5.0\n",
              "225279    1560    110.0     5.0\n",
              "225280    1560    141.0     1.5\n",
              "225281    1560    147.0     3.0\n",
              "225282      15      NaN     NaN\n",
              "\n",
              "[225283 rows x 3 columns]>"
            ]
          },
          "metadata": {},
          "execution_count": 15
        }
      ]
    },
    {
      "cell_type": "code",
      "source": [
        "new_dataset=pd.DataFrame(columns=range(1,1560),index=range(1,130219))"
      ],
      "metadata": {
        "id": "_x8a5rOocFUX"
      },
      "execution_count": null,
      "outputs": []
    },
    {
      "cell_type": "code",
      "source": [
        "new_dataset.head"
      ],
      "metadata": {
        "colab": {
          "base_uri": "https://localhost:8080/"
        },
        "id": "Aw4h6ZHUdRf5",
        "outputId": "177d75af-78a0-4922-c614-48c6ab93e71d"
      },
      "execution_count": null,
      "outputs": [
        {
          "output_type": "execute_result",
          "data": {
            "text/plain": [
              "<bound method NDFrame.head of        1    2    3    4    5    6    7    8    9    10    ... 1550 1551 1552  \\\n",
              "1       NaN  NaN  NaN  NaN  NaN  NaN  NaN  NaN  NaN  NaN  ...  NaN  NaN  NaN   \n",
              "2       NaN  NaN  NaN  NaN  NaN  NaN  NaN  NaN  NaN  NaN  ...  NaN  NaN  NaN   \n",
              "3       NaN  NaN  NaN  NaN  NaN  NaN  NaN  NaN  NaN  NaN  ...  NaN  NaN  NaN   \n",
              "4       NaN  NaN  NaN  NaN  NaN  NaN  NaN  NaN  NaN  NaN  ...  NaN  NaN  NaN   \n",
              "5       NaN  NaN  NaN  NaN  NaN  NaN  NaN  NaN  NaN  NaN  ...  NaN  NaN  NaN   \n",
              "...     ...  ...  ...  ...  ...  ...  ...  ...  ...  ...  ...  ...  ...  ...   \n",
              "130214  NaN  NaN  NaN  NaN  NaN  NaN  NaN  NaN  NaN  NaN  ...  NaN  NaN  NaN   \n",
              "130215  NaN  NaN  NaN  NaN  NaN  NaN  NaN  NaN  NaN  NaN  ...  NaN  NaN  NaN   \n",
              "130216  NaN  NaN  NaN  NaN  NaN  NaN  NaN  NaN  NaN  NaN  ...  NaN  NaN  NaN   \n",
              "130217  NaN  NaN  NaN  NaN  NaN  NaN  NaN  NaN  NaN  NaN  ...  NaN  NaN  NaN   \n",
              "130218  NaN  NaN  NaN  NaN  NaN  NaN  NaN  NaN  NaN  NaN  ...  NaN  NaN  NaN   \n",
              "\n",
              "       1553 1554 1555 1556 1557 1558 1559  \n",
              "1       NaN  NaN  NaN  NaN  NaN  NaN  NaN  \n",
              "2       NaN  NaN  NaN  NaN  NaN  NaN  NaN  \n",
              "3       NaN  NaN  NaN  NaN  NaN  NaN  NaN  \n",
              "4       NaN  NaN  NaN  NaN  NaN  NaN  NaN  \n",
              "5       NaN  NaN  NaN  NaN  NaN  NaN  NaN  \n",
              "...     ...  ...  ...  ...  ...  ...  ...  \n",
              "130214  NaN  NaN  NaN  NaN  NaN  NaN  NaN  \n",
              "130215  NaN  NaN  NaN  NaN  NaN  NaN  NaN  \n",
              "130216  NaN  NaN  NaN  NaN  NaN  NaN  NaN  \n",
              "130217  NaN  NaN  NaN  NaN  NaN  NaN  NaN  \n",
              "130218  NaN  NaN  NaN  NaN  NaN  NaN  NaN  \n",
              "\n",
              "[130218 rows x 1559 columns]>"
            ]
          },
          "metadata": {},
          "execution_count": 21
        }
      ]
    },
    {
      "cell_type": "code",
      "source": [
        "new_dataset.shape"
      ],
      "metadata": {
        "colab": {
          "base_uri": "https://localhost:8080/"
        },
        "id": "jMQF5tpedelR",
        "outputId": "0ebd510e-071f-4fbb-c2a7-86bc6984af02"
      },
      "execution_count": null,
      "outputs": [
        {
          "output_type": "execute_result",
          "data": {
            "text/plain": [
              "(130218, 1559)"
            ]
          },
          "metadata": {},
          "execution_count": 23
        }
      ]
    },
    {
      "cell_type": "code",
      "source": [
        "for i in range(125915, 257):\n",
        "    a=dataset.iloc[i,0]\n",
        "    b=dataset.iloc[i,1]\n",
        "    c=dataset.iloc[i,2]\n",
        "    new_dataset.iloc[a-1,b-1]=c"
      ],
      "metadata": {
        "id": "Rx55cPxdeANz"
      },
      "execution_count": null,
      "outputs": []
    },
    {
      "cell_type": "code",
      "source": [
        "new_dataset.head"
      ],
      "metadata": {
        "colab": {
          "base_uri": "https://localhost:8080/"
        },
        "id": "Y_QlaSHue_d2",
        "outputId": "64d592f1-2ddd-4bb2-8f37-6e73ea840197"
      },
      "execution_count": null,
      "outputs": [
        {
          "output_type": "execute_result",
          "data": {
            "text/plain": [
              "<bound method NDFrame.head of        1    2    3    4    5    6    7    8    9    10    ... 1550 1551 1552  \\\n",
              "1       NaN  NaN  NaN  NaN  NaN  NaN  NaN  NaN  NaN  NaN  ...  NaN  NaN  NaN   \n",
              "2       NaN  NaN  NaN  NaN  NaN  NaN  NaN  NaN  NaN  NaN  ...  NaN  NaN  NaN   \n",
              "3       NaN  NaN  NaN  NaN  NaN  NaN  NaN  NaN  NaN  NaN  ...  NaN  NaN  NaN   \n",
              "4       NaN  NaN  NaN  NaN  NaN  NaN  NaN  NaN  NaN  NaN  ...  NaN  NaN  NaN   \n",
              "5       NaN  NaN  NaN  NaN  NaN  NaN  NaN  NaN  NaN  NaN  ...  NaN  NaN  NaN   \n",
              "...     ...  ...  ...  ...  ...  ...  ...  ...  ...  ...  ...  ...  ...  ...   \n",
              "130214  NaN  NaN  NaN  NaN  NaN  NaN  NaN  NaN  NaN  NaN  ...  NaN  NaN  NaN   \n",
              "130215  NaN  NaN  NaN  NaN  NaN  NaN  NaN  NaN  NaN  NaN  ...  NaN  NaN  NaN   \n",
              "130216  NaN  NaN  NaN  NaN  NaN  NaN  NaN  NaN  NaN  NaN  ...  NaN  NaN  NaN   \n",
              "130217  NaN  NaN  NaN  NaN  NaN  NaN  NaN  NaN  NaN  NaN  ...  NaN  NaN  NaN   \n",
              "130218  NaN  NaN  NaN  NaN  NaN  NaN  NaN  NaN  NaN  NaN  ...  NaN  NaN  NaN   \n",
              "\n",
              "       1553 1554 1555 1556 1557 1558 1559  \n",
              "1       NaN  NaN  NaN  NaN  NaN  NaN  NaN  \n",
              "2       NaN  NaN  NaN  NaN  NaN  NaN  NaN  \n",
              "3       NaN  NaN  NaN  NaN  NaN  NaN  NaN  \n",
              "4       NaN  NaN  NaN  NaN  NaN  NaN  NaN  \n",
              "5       NaN  NaN  NaN  NaN  NaN  NaN  NaN  \n",
              "...     ...  ...  ...  ...  ...  ...  ...  \n",
              "130214  NaN  NaN  NaN  NaN  NaN  NaN  NaN  \n",
              "130215  NaN  NaN  NaN  NaN  NaN  NaN  NaN  \n",
              "130216  NaN  NaN  NaN  NaN  NaN  NaN  NaN  \n",
              "130217  NaN  NaN  NaN  NaN  NaN  NaN  NaN  \n",
              "130218  NaN  NaN  NaN  NaN  NaN  NaN  NaN  \n",
              "\n",
              "[130218 rows x 1559 columns]>"
            ]
          },
          "metadata": {},
          "execution_count": 29
        }
      ]
    },
    {
      "cell_type": "code",
      "source": [
        "new_dataset.fillna(0 ,inplace=True)"
      ],
      "metadata": {
        "id": "tuiR0yHvfN-R"
      },
      "execution_count": null,
      "outputs": []
    },
    {
      "cell_type": "code",
      "source": [
        "new_dataset.head"
      ],
      "metadata": {
        "colab": {
          "base_uri": "https://localhost:8080/"
        },
        "id": "7_BItu5UflcP",
        "outputId": "595e67e5-6ef2-4621-cbea-04cc217c2872"
      },
      "execution_count": null,
      "outputs": [
        {
          "output_type": "execute_result",
          "data": {
            "text/plain": [
              "<bound method NDFrame.head of         1     2     3     4     5     6     7     8     9     10    ...  1550  \\\n",
              "1          0     0     0     0     0     0     0     0     0     0  ...     0   \n",
              "2          0     0     0     0     0     0     0     0     0     0  ...     0   \n",
              "3          0     0     0     0     0     0     0     0     0     0  ...     0   \n",
              "4          0     0     0     0     0     0     0     0     0     0  ...     0   \n",
              "5          0     0     0     0     0     0     0     0     0     0  ...     0   \n",
              "...      ...   ...   ...   ...   ...   ...   ...   ...   ...   ...  ...   ...   \n",
              "130214     0     0     0     0     0     0     0     0     0     0  ...     0   \n",
              "130215     0     0     0     0     0     0     0     0     0     0  ...     0   \n",
              "130216     0     0     0     0     0     0     0     0     0     0  ...     0   \n",
              "130217     0     0     0     0     0     0     0     0     0     0  ...     0   \n",
              "130218     0     0     0     0     0     0     0     0     0     0  ...     0   \n",
              "\n",
              "        1551  1552  1553  1554  1555  1556  1557  1558  1559  \n",
              "1          0     0     0     0     0     0     0     0     0  \n",
              "2          0     0     0     0     0     0     0     0     0  \n",
              "3          0     0     0     0     0     0     0     0     0  \n",
              "4          0     0     0     0     0     0     0     0     0  \n",
              "5          0     0     0     0     0     0     0     0     0  \n",
              "...      ...   ...   ...   ...   ...   ...   ...   ...   ...  \n",
              "130214     0     0     0     0     0     0     0     0     0  \n",
              "130215     0     0     0     0     0     0     0     0     0  \n",
              "130216     0     0     0     0     0     0     0     0     0  \n",
              "130217     0     0     0     0     0     0     0     0     0  \n",
              "130218     0     0     0     0     0     0     0     0     0  \n",
              "\n",
              "[130218 rows x 1559 columns]>"
            ]
          },
          "metadata": {},
          "execution_count": 31
        }
      ]
    },
    {
      "cell_type": "code",
      "source": [
        "ty=np.array(new_dataset)"
      ],
      "metadata": {
        "id": "MmZ1FlNiftX6"
      },
      "execution_count": null,
      "outputs": []
    },
    {
      "cell_type": "code",
      "source": [
        "ty"
      ],
      "metadata": {
        "colab": {
          "base_uri": "https://localhost:8080/"
        },
        "id": "bpAvN7LYf4f7",
        "outputId": "1a0d72b7-6fc8-40a1-f3c2-46b6882154d2"
      },
      "execution_count": null,
      "outputs": [
        {
          "output_type": "execute_result",
          "data": {
            "text/plain": [
              "array([[0, 0, 0, ..., 0, 0, 0],\n",
              "       [0, 0, 0, ..., 0, 0, 0],\n",
              "       [0, 0, 0, ..., 0, 0, 0],\n",
              "       ...,\n",
              "       [0, 0, 0, ..., 0, 0, 0],\n",
              "       [0, 0, 0, ..., 0, 0, 0],\n",
              "       [0, 0, 0, ..., 0, 0, 0]])"
            ]
          },
          "metadata": {},
          "execution_count": 34
        }
      ]
    },
    {
      "cell_type": "code",
      "source": [
        "def matrix_factorization(R, P, Q, K, steps=5000, alpha=0.0002, beta=0.02):\n",
        "    '''\n",
        "    R: rating matrix\n",
        "    P: |U| * K (User features matrix)\n",
        "    Q: |D| * K (Item features matrix)\n",
        "    K: latent features\n",
        "    steps: iterations\n",
        "    alpha: learning rate\n",
        "    beta: regularization parameter'''\n",
        "    Q = Q.T\n",
        "\n",
        "    for step in range(steps):\n",
        "        for i in range(len(R)):\n",
        "            for j in range(len(R[i])):\n",
        "                if R[i][j] > 0:\n",
        "                    # calculate error\n",
        "                    eij = R[i][j] - np.dot(P[i,:],Q[:,j])\n",
        "\n",
        "                    for k in range(K):\n",
        "                        # calculate gradient with a and beta parameter\n",
        "                        P[i][k] = P[i][k] + alpha * (2 * eij * Q[k][j] - beta * P[i][k])\n",
        "                        Q[k][j] = Q[k][j] + alpha * (2 * eij * P[i][k] - beta * Q[k][j])\n",
        "\n",
        "        eR = np.dot(P,Q)\n",
        "\n",
        "        e = 0\n",
        "\n",
        "        for i in range(len(R)):\n",
        "\n",
        "            for j in range(len(R[i])):\n",
        "\n",
        "                if R[i][j] > 0:\n",
        "\n",
        "                    e = e + pow(R[i][j] - np.dot(P[i,:],Q[:,j]), 2)\n",
        "\n",
        "                    for k in range(K):\n",
        "\n",
        "                        e = e + (beta/2) * (pow(P[i][k],2) + pow(Q[k][j],2))\n",
        "        # 0.001: local minimum\n",
        "        if e < 0.001:\n",
        "\n",
        "            break\n",
        "\n",
        "    return P, Q.T"
      ],
      "metadata": {
        "id": "KrVpA3o9gF2k"
      },
      "execution_count": null,
      "outputs": []
    },
    {
      "cell_type": "code",
      "source": [
        "R = [\n",
        "\n",
        "     [5,3,0,1],\n",
        "\n",
        "     [4,0,0,1],\n",
        "\n",
        "     [1,1,0,5],\n",
        "\n",
        "     [1,0,0,4],\n",
        "\n",
        "     [0,1,5,4],\n",
        "    \n",
        "     [2,1,3,0],\n",
        "\n",
        "    ]\n",
        "\n",
        "R = np.array(R)\n",
        "# N: num of User\n",
        "N = len(R)\n",
        "# M: num of Movie\n",
        "M = len(R[0])\n",
        "# Num of Features\n",
        "K = 3\n",
        "\n",
        " \n",
        "P = np.random.rand(N,K)\n",
        "Q = np.random.rand(M,K)\n",
        "\n",
        " \n",
        "\n",
        "nP, nQ = matrix_factorization(R, P, Q, K)\n",
        "\n",
        "nR = np.dot(nP, nQ.T)"
      ],
      "metadata": {
        "id": "NgQGlS_qgY0h"
      },
      "execution_count": null,
      "outputs": []
    },
    {
      "cell_type": "code",
      "source": [
        "nR"
      ],
      "metadata": {
        "colab": {
          "base_uri": "https://localhost:8080/"
        },
        "id": "qZNDaHZBgibG",
        "outputId": "c4168cb0-8ed9-46c5-a371-e28e246764aa"
      },
      "execution_count": null,
      "outputs": [
        {
          "output_type": "execute_result",
          "data": {
            "text/plain": [
              "array([[4.97815646, 2.97475761, 3.03232055, 1.00335179],\n",
              "       [3.97810131, 2.3010514 , 2.63986352, 1.00000978],\n",
              "       [1.00784651, 0.98723169, 3.06698385, 4.96968106],\n",
              "       [0.99933034, 0.89192278, 2.56697362, 3.98105532],\n",
              "       [3.08102158, 1.02013941, 4.97237165, 3.991536  ],\n",
              "       [1.98506466, 0.987964  , 3.00482435, 2.91776937]])"
            ]
          },
          "metadata": {},
          "execution_count": 37
        }
      ]
    }
  ]
}